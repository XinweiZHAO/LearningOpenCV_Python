{
 "cells": [
  {
   "cell_type": "markdown",
   "metadata": {},
   "source": [
    "# LearningOpenCV-Python"
   ]
  },
  {
   "cell_type": "code",
   "execution_count": 2,
   "metadata": {
    "collapsed": true
   },
   "outputs": [],
   "source": [
    "import cv2  # 导入cv2\n",
    "import numpy as np\n",
    "import matplotlib.pyplot as plt"
   ]
  },
  {
   "cell_type": "markdown",
   "metadata": {},
   "source": [
    "## 1.3 Core Operations"
   ]
  },
  {
   "cell_type": "markdown",
   "metadata": {},
   "source": [
    "### 1.3.1 Basic Operations on Images\n",
    "1. 获取像素值并修改\n",
    "2. 获取图像属性\n",
    "3. 设置Region of Image(ROI)\n",
    "4. 拆分与合并图像"
   ]
  },
  {
   "cell_type": "markdown",
   "metadata": {
    "collapsed": true
   },
   "source": [
    "#### 1. Accessing and Modifying pixel values"
   ]
  },
  {
   "cell_type": "code",
   "execution_count": 3,
   "metadata": {
    "collapsed": false
   },
   "outputs": [],
   "source": [
    "img = cv2.imread('../Ch2_Gui_Features/input/Oec.jpeg') # ../ 至上一目录"
   ]
  },
  {
   "cell_type": "markdown",
   "metadata": {},
   "source": [
    "可以通过像素坐标获取像素值，返回BGR list"
   ]
  },
  {
   "cell_type": "code",
   "execution_count": 5,
   "metadata": {
    "collapsed": false
   },
   "outputs": [
    {
     "name": "stdout",
     "output_type": "stream",
     "text": [
      "[202 182 104]\n"
     ]
    }
   ],
   "source": [
    "px = img[100, 100]\n",
    "print(px)"
   ]
  },
  {
   "cell_type": "markdown",
   "metadata": {},
   "source": [
    "获取蓝色通道像素值"
   ]
  },
  {
   "cell_type": "code",
   "execution_count": 6,
   "metadata": {
    "collapsed": false
   },
   "outputs": [
    {
     "name": "stdout",
     "output_type": "stream",
     "text": [
      "202\n"
     ]
    }
   ],
   "source": [
    "blue = img[100,100,0] # BGR -> 0, 1, 2\n",
    "print blue"
   ]
  },
  {
   "cell_type": "markdown",
   "metadata": {},
   "source": [
    "修改像素值"
   ]
  },
  {
   "cell_type": "code",
   "execution_count": 7,
   "metadata": {
    "collapsed": false
   },
   "outputs": [
    {
     "name": "stdout",
     "output_type": "stream",
     "text": [
      "[255 255 255]\n"
     ]
    }
   ],
   "source": [
    "img[100, 100] = [255, 255, 255] # 原处修改\n",
    "print(img[100, 100])"
   ]
  },
  {
   "cell_type": "markdown",
   "metadata": {},
   "source": [
    "**Better pixel accessing and editing method :**\n",
    "\n",
    "numpy的 `array.item()` 和 `array.itemset()` 函数对处理单一像素性能更好"
   ]
  },
  {
   "cell_type": "code",
   "execution_count": 8,
   "metadata": {
    "collapsed": false
   },
   "outputs": [
    {
     "data": {
      "text/plain": [
       "115"
      ]
     },
     "execution_count": 8,
     "metadata": {},
     "output_type": "execute_result"
    }
   ],
   "source": [
    "img.item(10,10,2) # 获取红色"
   ]
  },
  {
   "cell_type": "code",
   "execution_count": 9,
   "metadata": {
    "collapsed": false
   },
   "outputs": [
    {
     "data": {
      "text/plain": [
       "100"
      ]
     },
     "execution_count": 9,
     "metadata": {},
     "output_type": "execute_result"
    }
   ],
   "source": [
    "img.itemset((10,10,2),100) # 修改像素值\n",
    "img.item(10,10,2)"
   ]
  },
  {
   "cell_type": "markdown",
   "metadata": {},
   "source": [
    "#### 2. Accessing Image Properties\n",
    "\n",
    "img存为Numpy array，需要使用相关Numpy API：[Numpy Manual](http://docs.scipy.org/doc/numpy/)\n",
    "\n",
    "图像（numpy array）属性包括：像素行列数，通道，图像数据类型，pixel数量......"
   ]
  },
  {
   "cell_type": "code",
   "execution_count": 10,
   "metadata": {
    "collapsed": false
   },
   "outputs": [
    {
     "name": "stdout",
     "output_type": "stream",
     "text": [
      "(1197L, 1800L, 3L)\n"
     ]
    }
   ],
   "source": [
    "print(img.shape) # 如果时grayscale图像则只返回像素行列数"
   ]
  },
  {
   "cell_type": "code",
   "execution_count": 11,
   "metadata": {
    "collapsed": false
   },
   "outputs": [
    {
     "name": "stdout",
     "output_type": "stream",
     "text": [
      "6463800\n"
     ]
    }
   ],
   "source": [
    "print(img.size) # number of pixels"
   ]
  },
  {
   "cell_type": "code",
   "execution_count": 12,
   "metadata": {
    "collapsed": false
   },
   "outputs": [
    {
     "name": "stdout",
     "output_type": "stream",
     "text": [
      "uint8\n"
     ]
    }
   ],
   "source": [
    "print(img.dtype) # image datatype"
   ]
  },
  {
   "cell_type": "markdown",
   "metadata": {},
   "source": [
    "#### 3. Image ROI\n",
    "\n",
    "有时候，你将不得不与图像的特定区域打交道。对于人眼检测而言，在图像上首先应执行面部检测，直至图像中的脸部被发现，然后再在该脸部区域内搜索眼睛。这种方法可以提高精度。"
   ]
  },
  {
   "cell_type": "code",
   "execution_count": 13,
   "metadata": {
    "collapsed": false
   },
   "outputs": [],
   "source": [
    "fish = img[20:200, 330:500] # numpy slicing\n",
    "cv2.namedWindow('img', cv2.WINDOW_NORMAL)\n",
    "cv2.imshow('img',fish)\n",
    "cv2.waitKey(0) \n",
    "cv2.destroyAllWindows()"
   ]
  },
  {
   "cell_type": "markdown",
   "metadata": {},
   "source": [
    "#### 4. Splitting and Merging Image Channels \n",
    "\n",
    "BGR通道可以拆分为三个独立的通道（拆出3个颜色通道），而三个通道又可以合并到一起"
   ]
  },
  {
   "cell_type": "code",
   "execution_count": 14,
   "metadata": {
    "collapsed": true
   },
   "outputs": [],
   "source": [
    "b, g, r = cv2.split(img)\n",
    "img = cv2.merge((b,g,r))"
   ]
  },
  {
   "cell_type": "markdown",
   "metadata": {},
   "source": [
    "或者以："
   ]
  },
  {
   "cell_type": "code",
   "execution_count": 9,
   "metadata": {
    "collapsed": true
   },
   "outputs": [],
   "source": [
    "b, g, r = img[:,:,0], img[:,:,1], img[:,:,2] # 使用更高效的处理"
   ]
  },
  {
   "cell_type": "code",
   "execution_count": 15,
   "metadata": {
    "collapsed": true
   },
   "outputs": [],
   "source": [
    "img[:,:,2] = 0 # 设置红色通道array均为0"
   ]
  },
  {
   "cell_type": "markdown",
   "metadata": {},
   "source": [
    "#### 5. Making Borders for Images (Padding)\n",
    "\n",
    "使用`cv2.copyMakeBoder()`函数（此外该函数可以做convolution operation, zero padding）\n",
    "\n",
    "主要参数：\n",
    "- **src** - 输入图形img\n",
    "- **top, bottom, left, right** - 对应方向的边界宽度，以pixel定义\n",
    "- **borderType** - 定义添加的边界类型，可以是以下各类:\n",
    "  - **cv2.BORDER_CONSTANT** - Adds a constant colored border. The value should be given as next argument.\n",
    "  - **cv2.BORDER_REFLECT** - Border will be mirror reflection of the border elements, like this : fedcba|abcdefgh|hgfedcb\n",
    "  - **cv2.BORDER_REFLECT_101** or **cv2.BORDER_DEFAULT** - Same as above, but with a slight change, like this : gfedcb|abcdefgh|gfedcba\n",
    "  - **cv2.BORDER_REPLICATE** - Last element is replicated throughout, like this: aaaaaa|abcdefgh|hhhhhhh\n",
    "  - **cv2.BORDER_WRAP** - Can’t explain, it will look like this : cdefgh|abcdefgh|abcdefg\n",
    "- value - 边界颜色（若边界类型为cv2.BORDER_CONSTANT）"
   ]
  },
  {
   "cell_type": "code",
   "execution_count": 16,
   "metadata": {
    "collapsed": false
   },
   "outputs": [],
   "source": [
    "BLUE = [255,0,0]\n",
    "img1 = cv2.imread('./input/opencv_logo.png')\n",
    "replicate = cv2.copyMakeBorder(img1,10,10,10,10,cv2.BORDER_REPLICATE)\n",
    "reflect = cv2.copyMakeBorder(img1,10,10,10,10,cv2.BORDER_REFLECT)\n",
    "reflect101 = cv2.copyMakeBorder(img1,10,10,10,10,cv2.BORDER_REFLECT_101)\n",
    "wrap = cv2.copyMakeBorder(img1,10,10,10,10,cv2.BORDER_WRAP)\n",
    "constant= cv2.copyMakeBorder(img1,10,10,10,10,cv2.BORDER_CONSTANT,value=BLUE)\n",
    "plt.subplot(231),plt.imshow(img1,'gray'),plt.title('ORIGINAL')\n",
    "plt.subplot(232),plt.imshow(replicate,'gray'),plt.title('REPLICATE')\n",
    "plt.subplot(233),plt.imshow(reflect,'gray'),plt.title('REFLECT')\n",
    "plt.subplot(234),plt.imshow(reflect101,'gray'),plt.title('REFLECT_101')\n",
    "plt.subplot(235),plt.imshow(wrap,'gray'),plt.title('WRAP')\n",
    "plt.subplot(236),plt.imshow(constant,'gray'),plt.title('CONSTANT')\n",
    "plt.show() # Image is displayed with matplotlib. So RED and BLUE planes will be interchanged"
   ]
  },
  {
   "cell_type": "markdown",
   "metadata": {},
   "source": [
    "### 1.3.2 Arithmetic Operations on Images Goal\n",
    "1. 学习若干简单图像计算算法，如：加，减，按位计算等等\n",
    "2. 函数cv2.add(); cv2.addWeighted()"
   ]
  },
  {
   "cell_type": "markdown",
   "metadata": {},
   "source": [
    "#### 1. Image Addition\n",
    "采用 `cv2.add()` 或者 `res = img1 + img2` 方式，但要注意：\n",
    ">OpenCV addition is a saturated operation while Numpy addition is a modulo operation.\n",
    "\n",
    "例如："
   ]
  },
  {
   "cell_type": "code",
   "execution_count": 17,
   "metadata": {
    "collapsed": false
   },
   "outputs": [
    {
     "name": "stdout",
     "output_type": "stream",
     "text": [
      "[[255]]\n",
      "[4]\n"
     ]
    }
   ],
   "source": [
    "x = np.uint8([250])\n",
    "y = np.uint8([10])\n",
    "print(cv2.add(x, y)) # 250+10 = 260 => 255\n",
    "print(x + y) # 250+10 = 260 - 256 = 4"
   ]
  },
  {
   "cell_type": "markdown",
   "metadata": {},
   "source": [
    "#### 2. Image Blending\n",
    ">图像合成计算公式：$g(x)=(1-\\alpha)f_0(x)+ \\alpha f_1(x) + \\gamma$"
   ]
  },
  {
   "cell_type": "code",
   "execution_count": 4,
   "metadata": {
    "collapsed": false,
    "scrolled": false
   },
   "outputs": [],
   "source": [
    "img1 = cv2.imread('./input/ml.jpg')\n",
    "img2 = cv2.imread('./input/opencv_logo.png') # 两张图的像素行列要一样(90x90像素)\n",
    "dst = cv2.addWeighted(img1, 0.7, img2, 0.3, 0)\n",
    "# cv2.namedWindow('dst',cv2.WINDOW_NORMAL)\n",
    "cv2.imshow('dst',dst)\n",
    "cv2.waitKey(0)\n",
    "cv2.destroyAllWindows()"
   ]
  },
  {
   "cell_type": "markdown",
   "metadata": {
    "collapsed": false
   },
   "source": [
    "#### 3. Bitwise Operations\n",
    "包括 `AND`; `OR`; `NOT` 以及` XOR`操作\n",
    "\n",
    "在提取图像的任何部分区域时（我们将在接下来的章节中看到的）他们将是非常有用的，例如定义和使用非矩形ROI。\n",
    "\n",
    "**以下例子将展示如何改变图像的特定区域：**"
   ]
  },
  {
   "cell_type": "markdown",
   "metadata": {
    "collapsed": true
   },
   "source": [
    "我希望实现将OpenCV的标志放置在某张图像的上方。如果我通过add方法处理两个图像，这会改变显示的色彩。但如果我将其融入到image中，则会有一个透明的效果。但我不希望它是透明的。如果这是一个矩形区域，我可以用前述的ROI来处理。但是OpenCV的标志不是一个矩形，而是非规则的。所以，你可以用如下的按位运算来做到这一点："
   ]
  },
  {
   "cell_type": "code",
   "execution_count": 5,
   "metadata": {
    "collapsed": false
   },
   "outputs": [],
   "source": [
    "# Load two images\n",
    "img1 = cv2.imread('./input/messi5.jpg')\n",
    "img2 = cv2.imread('./input/opencv_logo.png')\n",
    "# I want to put logo on top-left corner, So I create a ROI\n",
    "rows,cols,channels = img2.shape\n",
    "roi = img1[0:rows, 0:cols ]\n",
    "# Now create a mask of logo and create its inverse mask also\n",
    "img2gray = cv2.cvtColor(img2,cv2.COLOR_BGR2GRAY) # 将image转为灰度图\n",
    "cv2.imshow('img2gray',img2gray)\n",
    "# ----------------------\n",
    "ret, mask = cv2.threshold(img2gray, 10, 255, cv2.THRESH_BINARY) # 阈值选区\n",
    "cv2.imshow('mask',mask)\n",
    "# ----------------------\n",
    "mask_inv = cv2.bitwise_not(mask) # 反选处logo(即logo区变白)\n",
    "# ----------------------\n",
    "cv2.imshow('mask_inv',mask_inv)\n",
    "# Now black-out the area of logo in ROI\n",
    "img1_bg = cv2.bitwise_and(roi,roi,mask = mask_inv)\n",
    "# Take only region of logo from logo image.\n",
    "img2_fg = cv2.bitwise_and(img2,img2,mask = mask)\n",
    "# Put logo in ROI and modify the main image\n",
    "dst = cv2.add(img1_bg,img2_fg)\n",
    "img1[0:rows, 0:cols ] = dst\n",
    "cv2.imshow('res',img1)\n",
    "cv2.waitKey(0)\n",
    "cv2.destroyAllWindows()"
   ]
  },
  {
   "cell_type": "markdown",
   "metadata": {
    "collapsed": true
   },
   "source": [
    "### 1.3.3 Performance Measurement and Improvement Techniques\n",
    "**在图像处理，因为你需要每秒处理大量的运算。强制性要求：你的代码不仅能提供正确的解决方案，而且在以最快的速度运行。**\n",
    "1. 评估代码性能\n",
    "2. 对于提高性能的一些建议\n",
    "3. 主要函数 `cv2.getTickCount`；`cv2.getTickFrequency`\n",
    "\n",
    "此外Python也提供了 **time** 模块，对于评估代码运行速度也是有帮助的，**profile**模块则提供了代码的详细报告，如每个函数所消耗的时间，函数被调用的次数等等。但是如果你使用Ipython，那么这些功能都集成在用户友好操作中了。"
   ]
  },
  {
   "cell_type": "markdown",
   "metadata": {
    "collapsed": true
   },
   "source": [
    "#### 1. Measuring Performance with OpenCV\n",
    "- `cv2.getTickCount()`  函数返回时钟周期的数目，reference events（如机器被接通）的发生到此函数被调用时刻的计数值。\n",
    "- `cv2.getTickFrequency` 函数返回时钟频率，或者是每秒多少个时钟周期，所以要想了解执行时间你可以这么做："
   ]
  },
  {
   "cell_type": "code",
   "execution_count": 4,
   "metadata": {
    "collapsed": false
   },
   "outputs": [
    {
     "name": "stdout",
     "output_type": "stream",
     "text": [
      "3.8683665901e-05\n"
     ]
    }
   ],
   "source": [
    "e1 = cv2.getTickCount()\n",
    "# your code execution\n",
    "e2 = cv2.getTickCount()\n",
    "time = (e2 - e1)/cv2.getTickFrequency()\n",
    "print(time)"
   ]
  },
  {
   "cell_type": "code",
   "execution_count": 6,
   "metadata": {
    "collapsed": false
   },
   "outputs": [
    {
     "name": "stdout",
     "output_type": "stream",
     "text": [
      "0.62684235893\n"
     ]
    }
   ],
   "source": [
    "img1 = cv2.imread('./input/messi5.jpg')\n",
    "e1 = cv2.getTickCount()\n",
    "for i in xrange(5,49,2):\n",
    "    img1 = cv2.medianBlur(img1,i) # 运用中值滤波\n",
    "e2 = cv2.getTickCount()\n",
    "t = (e2 - e1)/cv2.getTickFrequency()\n",
    "print(t)\n",
    "cv2.imshow('res',img1)\n",
    "cv2.waitKey(0)\n",
    "cv2.destroyAllWindows()"
   ]
  },
  {
   "cell_type": "markdown",
   "metadata": {
    "collapsed": true
   },
   "source": [
    "#### 2. Default Optimization in OpenCV\n",
    "许多OpenCV的函数是使用SSE2，AVX等优化过的。其中也包含了一些未优化过的代码。OpenCV会自动运行优化过的代码如果使能的话。\n",
    "- `cv2.useOptimized()` ：检测是否打开优化\n",
    "- `cv2.setUseOptimized()` ：使能"
   ]
  },
  {
   "cell_type": "code",
   "execution_count": 9,
   "metadata": {
    "collapsed": false
   },
   "outputs": [
    {
     "data": {
      "text/plain": [
       "True"
      ]
     },
     "execution_count": 9,
     "metadata": {},
     "output_type": "execute_result"
    }
   ],
   "source": [
    "# check if optimization is enabled\n",
    "cv2.useOptimized() # enabled by default"
   ]
  },
  {
   "cell_type": "code",
   "execution_count": 11,
   "metadata": {
    "collapsed": false
   },
   "outputs": [
    {
     "name": "stdout",
     "output_type": "stream",
     "text": [
      "10 loops, best of 3: 25.7 ms per loop\n"
     ]
    }
   ],
   "source": [
    "img = cv2.imread('./input/messi5.jpg')\n",
    "%timeit res = cv2.medianBlur(img,49)"
   ]
  },
  {
   "cell_type": "markdown",
   "metadata": {},
   "source": [
    "Disable Optimization："
   ]
  },
  {
   "cell_type": "code",
   "execution_count": 10,
   "metadata": {
    "collapsed": false
   },
   "outputs": [
    {
     "data": {
      "text/plain": [
       "'cv2.setUseOptimized(False) # Disable it'"
      ]
     },
     "execution_count": 10,
     "metadata": {},
     "output_type": "execute_result"
    }
   ],
   "source": [
    "'''cv2.setUseOptimized(False) # Disable it'''"
   ]
  },
  {
   "cell_type": "code",
   "execution_count": 13,
   "metadata": {
    "collapsed": false
   },
   "outputs": [
    {
     "name": "stdout",
     "output_type": "stream",
     "text": [
      "100000 loops, best of 3: 16.4 µs per loop\n"
     ]
    }
   ],
   "source": [
    "img = cv2.imread('./input/messi5.jpg')\n",
    "# optimized median filtering is almost ~2x faster than unoptimized version\n",
    "%timeit res = cv2.medianBlur(img,49) "
   ]
  },
  {
   "cell_type": "markdown",
   "metadata": {},
   "source": [
    "#### 3. Measuring Performance in IPython\n",
    "Ipython提供 `%timeit` ，多次运行代码以评估平均运行时间。同样的，其适用于单行代码"
   ]
  },
  {
   "cell_type": "code",
   "execution_count": 14,
   "metadata": {
    "collapsed": false
   },
   "outputs": [
    {
     "name": "stdout",
     "output_type": "stream",
     "text": [
      "10000000 loops, best of 3: 54.3 ns per loop\n"
     ]
    }
   ],
   "source": [
    "x = 5\n",
    "%timeit y=x**2"
   ]
  },
  {
   "cell_type": "code",
   "execution_count": 15,
   "metadata": {
    "collapsed": false
   },
   "outputs": [
    {
     "name": "stdout",
     "output_type": "stream",
     "text": [
      "10000000 loops, best of 3: 51.2 ns per loop\n"
     ]
    }
   ],
   "source": [
    "%timeit y=x*x"
   ]
  },
  {
   "cell_type": "code",
   "execution_count": 4,
   "metadata": {
    "collapsed": false
   },
   "outputs": [
    {
     "name": "stdout",
     "output_type": "stream",
     "text": [
      "The slowest run took 39.90 times longer than the fastest. This could mean that an intermediate result is being cached \n",
      "1000000 loops, best of 3: 544 ns per loop\n"
     ]
    }
   ],
   "source": [
    "z = np.uint8([5])\n",
    "%timeit y=z*z # Python scalar operations are faster than Numpy scalar operations"
   ]
  },
  {
   "cell_type": "code",
   "execution_count": 5,
   "metadata": {
    "collapsed": false,
    "scrolled": true
   },
   "outputs": [
    {
     "name": "stdout",
     "output_type": "stream",
     "text": [
      "The slowest run took 24.48 times longer than the fastest. This could mean that an intermediate result is being cached \n",
      "1000000 loops, best of 3: 613 ns per loop\n"
     ]
    }
   ],
   "source": [
    "%timeit y=np.square(z) "
   ]
  },
  {
   "cell_type": "markdown",
   "metadata": {},
   "source": [
    "compare the performance of `cv2.countNonZero()` and `np.count_nonzero()` for same image"
   ]
  },
  {
   "cell_type": "code",
   "execution_count": 9,
   "metadata": {
    "collapsed": false
   },
   "outputs": [
    {
     "name": "stdout",
     "output_type": "stream",
     "text": [
      "100000 loops, best of 3: 12.9 µs per loop\n"
     ]
    }
   ],
   "source": [
    "img = cv2.imread('./input/messi5.jpg', 0) # grayscale\n",
    "%timeit z = cv2.countNonZero(img)"
   ]
  },
  {
   "cell_type": "code",
   "execution_count": 8,
   "metadata": {
    "collapsed": false
   },
   "outputs": [
    {
     "name": "stdout",
     "output_type": "stream",
     "text": [
      "1000 loops, best of 3: 383 µs per loop\n"
     ]
    }
   ],
   "source": [
    "img = cv2.imread('./input/messi5.jpg', 0) # grayscale\n",
    "%timeit z = np.count_nonzero(img)"
   ]
  },
  {
   "cell_type": "markdown",
   "metadata": {},
   "source": [
    "通常情况下，OpenCV函数比numpy的函数更快。因此，对于相同的操作，**OpenCV函数是优选的**。但是，也有例外，尤其是Numpy以**view**方式工作而非copies（复制原数据）。\n",
    "\n",
    "**以下为注意点：**\n",
    "1. **Avoid using loops** in Python as far as possible, especially double/triple loops etc. They are inherently slow.\n",
    "2. Vectorize the algorithm/code to the maximum possible extent because **Numpy and OpenCV are optimized for\n",
    "vector operations**.\n",
    "3. Exploit the cache coherence.\n",
    "4. **Never make copies of array** unless it is needed. Try to use views instead. Array copying is a costly operation.\n",
    "\n",
    "Even after doing all these operations, if your code is still slow, or use of large loops are inevitable, use additional\n",
    "libraries like **Cython** to make it faster."
   ]
  },
  {
   "cell_type": "markdown",
   "metadata": {},
   "source": [
    "#### 1.3.4 Mathematical Tools in OpenCV\n",
    "主成分分析(**PCA**)与奇异值分解(**SVD**)"
   ]
  }
 ],
 "metadata": {
  "kernelspec": {
   "display_name": "Python 2",
   "language": "python",
   "name": "python2"
  },
  "language_info": {
   "codemirror_mode": {
    "name": "ipython",
    "version": 2
   },
   "file_extension": ".py",
   "mimetype": "text/x-python",
   "name": "python",
   "nbconvert_exporter": "python",
   "pygments_lexer": "ipython2",
   "version": "2.7.11"
  }
 },
 "nbformat": 4,
 "nbformat_minor": 0
}
